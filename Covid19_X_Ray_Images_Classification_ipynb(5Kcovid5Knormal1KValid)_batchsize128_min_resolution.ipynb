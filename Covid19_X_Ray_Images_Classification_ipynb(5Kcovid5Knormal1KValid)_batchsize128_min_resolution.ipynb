{
  "cells": [
    {
      "cell_type": "markdown",
      "metadata": {
        "id": "e1BIC-slGG38"
      },
      "source": [
        "# Libraries"
      ]
    },
    {
      "cell_type": "code",
      "execution_count": null,
      "metadata": {
        "colab": {
          "base_uri": "https://localhost:8080/"
        },
        "id": "XWbZEKAewgc0",
        "outputId": "16a86b88-adb7-4c8f-de40-7010d31835e5"
      },
      "outputs": [
        {
          "output_type": "stream",
          "name": "stdout",
          "text": [
            "Drive already mounted at /content/drive; to attempt to forcibly remount, call drive.mount(\"/content/drive\", force_remount=True).\n"
          ]
        }
      ],
      "source": [
        "from google.colab import drive\n",
        "drive.mount('/content/drive')"
      ]
    },
    {
      "cell_type": "code",
      "execution_count": null,
      "metadata": {
        "id": "8zd2YH9tGDYW"
      },
      "outputs": [],
      "source": [
        "# Common lib\n",
        "import pandas as pd\n",
        "import numpy as np\n",
        "import matplotlib.pyplot as plt\n",
        "import seaborn as sns\n",
        "import os\n",
        "\n",
        "# Utils\n",
        "from tqdm import tqdm\n",
        "import datetime\n",
        "\n",
        "# Sklearn\n",
        "from sklearn.model_selection import train_test_split\n",
        "\n",
        "# Tensorflow\n",
        "import tensorflow as tf\n",
        "from tensorflow.keras.models import Model, Sequential\n",
        "from tensorflow.keras.applications.vgg16 import VGG16\n",
        "from tensorflow.keras import Input\n",
        "from tensorflow.keras.layers import InputLayer\n",
        "from tensorflow.keras.layers import Conv2D, BatchNormalization, Activation, Add, MaxPooling2D, Flatten, AveragePooling2D, Dense, Dropout\n",
        "from tensorflow.keras.callbacks import ModelCheckpoint, EarlyStopping, ReduceLROnPlateau\n",
        "from tensorflow.keras.metrics import AUC, TruePositives, TrueNegatives, FalsePositives, FalseNegatives\n",
        "from tensorflow.keras.preprocessing.image import ImageDataGenerator, load_img, img_to_array, array_to_img\n",
        "from tensorflow.keras.layers.experimental.preprocessing import Resizing, Rescaling\n",
        "from tensorflow.keras.optimizers import Adam\n",
        "from tensorflow.keras.regularizers import l2"
      ]
    },
    {
      "cell_type": "markdown",
      "metadata": {
        "id": "OdC9npdO_s3g"
      },
      "source": [
        "# ResNet Model"
      ]
    },
    {
      "cell_type": "code",
      "execution_count": null,
      "metadata": {
        "id": "-2DG6o8lb1Rn"
      },
      "outputs": [],
      "source": [
        "import numpy as np\n",
        "import pandas as pd\n",
        "import os\n",
        "import PIL\n",
        "import cv2\n",
        "import tensorflow as tf\n",
        "from tensorflow import keras\n",
        "from tensorflow.keras.optimizers import Adam\n",
        "from tensorflow.keras.preprocessing.image import ImageDataGenerator\n",
        "import matplotlib.pyplot as plt\n",
        "from matplotlib.pyplot import imshow\n",
        "from sklearn.model_selection import train_test_split\n",
        "import matplotlib.pyplot as plt\n",
        "from matplotlib.pyplot import imshow\n",
        "import shutil\n",
        "from sklearn.metrics import confusion_matrix, classification_report\n",
        "# we added the separation an"
      ]
    },
    {
      "cell_type": "code",
      "execution_count": null,
      "metadata": {
        "id": "3wV6v21rbHM5"
      },
      "outputs": [],
      "source": [
        "import tensorflow as tf\n",
        "#Our base model is InceptionResNetV2, new readers are encouraged to see the architecture of this particular model\n",
        "\n",
        "base_model = tf.keras.applications.ResNet50V2(weights='imagenet', input_shape = (299,164,3),\n",
        "                                                     include_top=False)\n",
        "for layer in base_model.layers:\n",
        "    layer.trainable = False"
      ]
    },
    {
      "cell_type": "code",
      "execution_count": null,
      "metadata": {
        "id": "OPugu3PnbXd5"
      },
      "outputs": [],
      "source": [
        "model = tf.keras.Sequential([\n",
        "    base_model, \n",
        "    tf.keras.layers.GlobalAveragePooling2D(), \n",
        "    tf.keras.layers.Dense(128, activation='relu'),\n",
        "    tf.keras.layers.BatchNormalization(), \n",
        "    tf.keras.layers.Dropout(0.2), \n",
        "    tf.keras.layers.Dense(1, activation='sigmoid')\n",
        "])\n",
        "\n",
        "callbacks = [\n",
        "    tf.keras.callbacks.ModelCheckpoint(\"covid_classifier_model.h5\", save_best_only=True, verbose = 0),\n",
        "    tf.keras.callbacks.EarlyStopping(patience=3, monitor='val_accuracy', verbose=1),\n",
        "    tf.keras.callbacks.ReduceLROnPlateau(monitor='val_loss', factor=0.5, patience=2, verbose=1)\n",
        "]\n",
        "\n",
        "model.compile(optimizer = keras.optimizers.Adam(learning_rate=0.001),\n",
        "              loss = 'binary_crossentropy',\n",
        "              metrics=['accuracy'])"
      ]
    },
    {
      "cell_type": "code",
      "execution_count": null,
      "metadata": {
        "colab": {
          "base_uri": "https://localhost:8080/"
        },
        "id": "QlT08Y_eUzcX",
        "outputId": "e1585d76-cfe6-4e23-9a77-62c9ab75276d"
      },
      "outputs": [
        {
          "output_type": "stream",
          "name": "stdout",
          "text": [
            "Model: \"sequential\"\n",
            "_________________________________________________________________\n",
            " Layer (type)                Output Shape              Param #   \n",
            "=================================================================\n",
            " resnet50v2 (Functional)     (None, 10, 6, 2048)       23564800  \n",
            "                                                                 \n",
            " global_average_pooling2d (G  (None, 2048)             0         \n",
            " lobalAveragePooling2D)                                          \n",
            "                                                                 \n",
            " dense (Dense)               (None, 128)               262272    \n",
            "                                                                 \n",
            " batch_normalization (BatchN  (None, 128)              512       \n",
            " ormalization)                                                   \n",
            "                                                                 \n",
            " dropout (Dropout)           (None, 128)               0         \n",
            "                                                                 \n",
            " dense_1 (Dense)             (None, 1)                 129       \n",
            "                                                                 \n",
            "=================================================================\n",
            "Total params: 23,827,713\n",
            "Trainable params: 262,657\n",
            "Non-trainable params: 23,565,056\n",
            "_________________________________________________________________\n"
          ]
        }
      ],
      "source": [
        "model.summary()"
      ]
    },
    {
      "cell_type": "markdown",
      "metadata": {
        "id": "jyH12CzS7oA3"
      },
      "source": [
        "# New Dataset"
      ]
    },
    {
      "cell_type": "code",
      "execution_count": null,
      "metadata": {
        "cellView": "code",
        "colab": {
          "base_uri": "https://localhost:8080/"
        },
        "id": "rgf-DgaZ3Saw",
        "outputId": "f00a107d-695e-4894-ba8c-b5c811ba5c01"
      },
      "outputs": [
        {
          "output_type": "stream",
          "name": "stdout",
          "text": [
            "Found 10000 images belonging to 2 classes.\n",
            "Found 2000 images belonging to 2 classes.\n"
          ]
        }
      ],
      "source": [
        "import os, glob\n",
        "import numpy as np\n",
        "import matplotlib.pyplot as plt\n",
        "import tensorflow as tf\n",
        "from tensorflow.keras.preprocessing.image import ImageDataGenerator\n",
        "from tensorflow import keras\n",
        "from keras import backend as K\n",
        "from tensorflow.keras.optimizers import Adam\n",
        "from keras import layers, models\n",
        "from tensorflow.keras import activations\n",
        "\n",
        "####### Generatiiing Data\n",
        "\n",
        "#batch_size = 32\n",
        "#batch_size = 64\n",
        "#batch_size = 128\n",
        "batch_size = 128\n",
        "\n",
        "image_weight = 299 \n",
        "image_height = 164\n",
        "\n",
        "train_datagen = ImageDataGenerator(rescale=1./255)                           \n",
        "train_generator = train_datagen.flow_from_directory(\n",
        "        '/content/drive/MyDrive/data/smallerData/train',  ## COV19-XRay Training set (10k(5kCovid & 5kNormal) Images)\n",
        "        target_size=(image_weight , image_height),\n",
        "        batch_size=batch_size,\n",
        "        classes = ['covid','normal'],\n",
        "        class_mode='binary')\n",
        "\n",
        "val_datagen = ImageDataGenerator(rescale=1./255)\n",
        "val_generator = val_datagen.flow_from_directory(\n",
        "        '/content/drive/MyDrive/data/smallerData/valid',  ## COV19-XRay Validation set (2k(1kNormal & 1kCovid) images)\n",
        "        target_size=(image_weight , image_height),\n",
        "        batch_size=batch_size,\n",
        "        classes = ['covid','normal'],\n",
        "        class_mode='binary')"
      ]
    },
    {
      "cell_type": "markdown",
      "metadata": {
        "id": "RHMwajuW5rbQ"
      },
      "source": [
        "##Creating Test Data"
      ]
    },
    {
      "cell_type": "code",
      "execution_count": null,
      "metadata": {
        "id": "kyzoeiwD5uCt",
        "colab": {
          "base_uri": "https://localhost:8080/"
        },
        "outputId": "d41bfb80-cc4c-4816-8da4-d9797fbad1ba"
      },
      "outputs": [
        {
          "output_type": "stream",
          "name": "stdout",
          "text": [
            "Found 3000 images belonging to 2 classes.\n"
          ]
        }
      ],
      "source": [
        "test_datagen = ImageDataGenerator(rescale=1./255)                           \n",
        "test_generator = test_datagen.flow_from_directory(\n",
        "        '/content/drive/MyDrive/data/smallerData/test',  ## COV19-XRay Test set (3k(1.5Covid & 1.5Normal) Images)\n",
        "        target_size=(image_weight, image_height),\n",
        "        batch_size=batch_size,\n",
        "        classes = ['covid','normal'],\n",
        "        class_mode='binary')"
      ]
    },
    {
      "cell_type": "markdown",
      "metadata": {
        "id": "eGXnbSz35nti"
      },
      "source": [
        "#Fitting Model"
      ]
    },
    {
      "cell_type": "code",
      "execution_count": null,
      "metadata": {
        "colab": {
          "base_uri": "https://localhost:8080/"
        },
        "id": "HeD-f62uGcph",
        "outputId": "87555f2e-ef1e-4d73-b4f6-f5ce63faeb29"
      },
      "outputs": [
        {
          "output_type": "stream",
          "name": "stdout",
          "text": [
            "Epoch 1/20\n",
            "79/79 [==============================] - ETA: 0s - loss: 0.3070 - accuracy: 0.8715 "
          ]
        },
        {
          "output_type": "stream",
          "name": "stderr",
          "text": [
            "/usr/local/lib/python3.7/dist-packages/keras/engine/functional.py:1410: CustomMaskWarning: Custom mask layers require a config and must override get_config. When loading, the custom mask layer must be passed to the custom_objects argument.\n",
            "  layer_config = serialize_layer_fn(layer)\n"
          ]
        },
        {
          "output_type": "stream",
          "name": "stdout",
          "text": [
            "\b\b\b\b\b\b\b\b\b\b\b\b\b\b\b\b\b\b\b\b\b\b\b\b\b\b\b\b\b\b\b\b\b\b\b\b\b\b\b\b\b\b\b\b\b\b\b\b\b\b\b\b\b\b\b\b\b\b\b\b\b\b\b\b\b\b\b\b\b\b\b\b\b\b\b\b\b\b\b\b\b\b\r79/79 [==============================] - 2138s 27s/step - loss: 0.3070 - accuracy: 0.8715 - val_loss: 0.2176 - val_accuracy: 0.9185 - lr: 0.0010\n",
            "Epoch 2/20\n",
            "79/79 [==============================] - 1780s 23s/step - loss: 0.1749 - accuracy: 0.9301 - val_loss: 0.1623 - val_accuracy: 0.9415 - lr: 0.0010\n",
            "Epoch 3/20\n",
            "79/79 [==============================] - 1839s 23s/step - loss: 0.1387 - accuracy: 0.9492 - val_loss: 0.1022 - val_accuracy: 0.9625 - lr: 0.0010\n",
            "Epoch 4/20\n",
            "79/79 [==============================] - 1830s 23s/step - loss: 0.1233 - accuracy: 0.9517 - val_loss: 0.1481 - val_accuracy: 0.9395 - lr: 0.0010\n",
            "Epoch 5/20\n",
            "79/79 [==============================] - ETA: 0s - loss: 0.0980 - accuracy: 0.9660 \n",
            "Epoch 00005: ReduceLROnPlateau reducing learning rate to 0.0005000000237487257.\n",
            "79/79 [==============================] - 1834s 23s/step - loss: 0.0980 - accuracy: 0.9660 - val_loss: 0.1789 - val_accuracy: 0.9265 - lr: 0.0010\n",
            "Epoch 6/20\n",
            "79/79 [==============================] - 1830s 23s/step - loss: 0.0828 - accuracy: 0.9721 - val_loss: 0.1160 - val_accuracy: 0.9520 - lr: 5.0000e-04\n",
            "Epoch 00006: early stopping\n"
          ]
        }
      ],
      "source": [
        "history = model.fit(train_generator, \n",
        "                    validation_data=val_generator, epochs=20, \n",
        "                    callbacks=[callbacks])"
      ]
    },
    {
      "cell_type": "code",
      "source": [
        "plt.plot(history.history['accuracy'])\n",
        "plt.plot(history.history['val_accuracy'])\n",
        "plt.title('model accuracy')\n",
        "plt.ylabel('accuracy')\n",
        "plt.xlabel('epoch')\n",
        "plt.legend(['train', 'test'], loc='upper left')\n",
        "plt.show()\n",
        "# summarize history for loss\n",
        "plt.plot(history.history['loss'])\n",
        "plt.plot(history.history['val_loss'])\n",
        "plt.title('model loss')\n",
        "plt.ylabel('loss')\n",
        "plt.xlabel('epoch')\n",
        "plt.legend(['train', 'test'], loc='upper left')\n",
        "plt.show()"
      ],
      "metadata": {
        "id": "pd0Cyi-_twd9",
        "outputId": "589c7dcf-779f-4a9c-f86b-a61736b4c007",
        "colab": {
          "base_uri": "https://localhost:8080/",
          "height": 573
        }
      },
      "execution_count": null,
      "outputs": [
        {
          "output_type": "display_data",
          "data": {
            "image/png": "[encoded data removed]",
            "text/plain": [
              "<Figure size 432x288 with 1 Axes>"
            ]
          },
          "metadata": {
            "needs_background": "light"
          }
        },
        {
          "output_type": "display_data",
          "data": {
            "image/png": "[encoded data removed]",
            "text/plain": [
              "<Figure size 432x288 with 1 Axes>"
            ]
          },
          "metadata": {
            "needs_background": "light"
          }
        }
      ]
    },
    {
      "cell_type": "markdown",
      "metadata": {
        "id": "cNhD4h0I3DLS"
      },
      "source": [
        "###Evaluation Of Model"
      ]
    },
    {
      "cell_type": "code",
      "execution_count": null,
      "metadata": {
        "id": "xTVfkNzxCzIx",
        "colab": {
          "base_uri": "https://localhost:8080/"
        },
        "outputId": "3575633f-ea9e-4891-ac44-52ddcf64185d"
      },
      "outputs": [
        {
          "output_type": "stream",
          "name": "stdout",
          "text": [
            "24/24 [==============================] - 523s 21s/step - loss: 0.2802 - accuracy: 0.8907\n"
          ]
        },
        {
          "output_type": "execute_result",
          "data": {
            "text/plain": [
              "[0.2801540493965149, 0.890666663646698]"
            ]
          },
          "metadata": {},
          "execution_count": 19
        }
      ],
      "source": [
        "model.load_weights(\"./covid_classifier_model.h5\")\n",
        "model.evaluate(test_generator)"
      ]
    }
  ],
  "metadata": {
    "colab": {
      "collapsed_sections": [],
      "name": "Covid19_X-Ray_Images_Classification.ipynb(5Kcovid5Knormal1KValid)_batchsize128_min_resolution",
      "provenance": []
    },
    "kernelspec": {
      "display_name": "Python 3",
      "name": "python3"
    },
    "language_info": {
      "name": "python"
    }
  },
  "nbformat": 4,
  "nbformat_minor": 0
}