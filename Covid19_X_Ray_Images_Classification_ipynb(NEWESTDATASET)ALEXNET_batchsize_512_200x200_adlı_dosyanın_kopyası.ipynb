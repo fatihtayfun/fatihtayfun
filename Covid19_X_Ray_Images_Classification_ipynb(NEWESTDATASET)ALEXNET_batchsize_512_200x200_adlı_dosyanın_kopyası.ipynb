{
  "cells": [
    {
      "cell_type": "markdown",
      "metadata": {
        "id": "view-in-github",
        "colab_type": "text"
      },
      "source": [
        "<a href=\"https://colab.research.google.com/github/fatihtayfun/fatihtayfun/blob/main/Covid19_X_Ray_Images_Classification_ipynb(NEWESTDATASET)ALEXNET_batchsize_512_200x200_adl%C4%B1_dosyan%C4%B1n_kopyas%C4%B1.ipynb\" target=\"_parent\"><img src=\"https://colab.research.google.com/assets/colab-badge.svg\" alt=\"Open In Colab\"/></a>"
      ]
    },
    {
      "cell_type": "markdown",
      "metadata": {
        "id": "e1BIC-slGG38"
      },
      "source": [
        "# Libraries"
      ]
    },
    {
      "cell_type": "code",
      "execution_count": null,
      "metadata": {
        "colab": {
          "base_uri": "https://localhost:8080/"
        },
        "id": "XWbZEKAewgc0",
        "outputId": "3c51c75a-b90b-4fbf-dbce-3e4f86e388db"
      },
      "outputs": [
        {
          "output_type": "stream",
          "name": "stdout",
          "text": [
            "Mounted at /content/drive\n"
          ]
        }
      ],
      "source": [
        "from google.colab import drive\n",
        "drive.mount('/content/drive')"
      ]
    },
    {
      "cell_type": "code",
      "execution_count": null,
      "metadata": {
        "id": "8zd2YH9tGDYW"
      },
      "outputs": [],
      "source": [
        "# Common lib\n",
        "import pandas as pd\n",
        "import numpy as np\n",
        "import matplotlib.pyplot as plt\n",
        "import seaborn as sns\n",
        "import os\n",
        "\n",
        "# Utils\n",
        "from tqdm import tqdm\n",
        "import datetime\n",
        "\n",
        "# Sklearn\n",
        "from sklearn.model_selection import train_test_split\n",
        "\n",
        "# Tensorflow\n",
        "import tensorflow as tf\n",
        "from tensorflow.keras.models import Model, Sequential\n",
        "from tensorflow.keras.applications.vgg16 import VGG16\n",
        "from tensorflow.keras import Input\n",
        "from tensorflow.keras.layers import InputLayer\n",
        "from tensorflow.keras.layers import Conv2D, BatchNormalization, Activation, Add, MaxPooling2D, Flatten, AveragePooling2D, Dense, Dropout\n",
        "from tensorflow.keras.callbacks import ModelCheckpoint, EarlyStopping, ReduceLROnPlateau\n",
        "from tensorflow.keras.metrics import AUC, TruePositives, TrueNegatives, FalsePositives, FalseNegatives\n",
        "from tensorflow.keras.preprocessing.image import ImageDataGenerator, load_img, img_to_array, array_to_img\n",
        "from tensorflow.keras.layers.experimental.preprocessing import Resizing, Rescaling\n",
        "from tensorflow.keras.optimizers import Adam\n",
        "from tensorflow.keras.regularizers import l2"
      ]
    },
    {
      "cell_type": "markdown",
      "metadata": {
        "id": "OdC9npdO_s3g"
      },
      "source": [
        "# ResNet Model"
      ]
    },
    {
      "cell_type": "code",
      "execution_count": null,
      "metadata": {
        "id": "-2DG6o8lb1Rn"
      },
      "outputs": [],
      "source": [
        "import numpy as np\n",
        "import pandas as pd\n",
        "import os\n",
        "import PIL\n",
        "import cv2\n",
        "import tensorflow as tf\n",
        "from tensorflow import keras\n",
        "from tensorflow.keras.optimizers import Adam\n",
        "from tensorflow.keras.preprocessing.image import ImageDataGenerator\n",
        "import matplotlib.pyplot as plt\n",
        "from matplotlib.pyplot import imshow\n",
        "from sklearn.model_selection import train_test_split\n",
        "import matplotlib.pyplot as plt\n",
        "from matplotlib.pyplot import imshow\n",
        "import shutil\n",
        "from sklearn.metrics import confusion_matrix, classification_report\n",
        "# we added the separation an"
      ]
    },
    {
      "cell_type": "code",
      "execution_count": null,
      "metadata": {
        "colab": {
          "base_uri": "https://localhost:8080/"
        },
        "id": "3wV6v21rbHM5",
        "outputId": "5abb09f2-f007-4f7f-ddb0-1c46631192c7"
      },
      "outputs": [
        {
          "output_type": "stream",
          "name": "stdout",
          "text": [
            "Downloading data from https://storage.googleapis.com/tensorflow/keras-applications/resnet/resnet50v2_weights_tf_dim_ordering_tf_kernels_notop.h5\n",
            "94674944/94668760 [==============================] - 1s 0us/step\n",
            "94683136/94668760 [==============================] - 1s 0us/step\n"
          ]
        }
      ],
      "source": [
        "import tensorflow as tf\n",
        "#Our base model is InceptionResNetV2, new readers are encouraged to see the architecture of this particular model\n",
        "\n",
        "base_model = tf.keras.applications.ResNet50V2(weights='imagenet', input_shape = (299,164,3),\n",
        "                                                     include_top=False)\n",
        "for layer in base_model.layers:\n",
        "    layer.trainable = False"
      ]
    },
    {
      "cell_type": "code",
      "execution_count": null,
      "metadata": {
        "id": "OPugu3PnbXd5"
      },
      "outputs": [],
      "source": [
        "model = tf.keras.Sequential([\n",
        "    base_model, \n",
        "    tf.keras.layers.GlobalAveragePooling2D(), \n",
        "    tf.keras.layers.Dense(128, activation='relu'),\n",
        "    tf.keras.layers.BatchNormalization(), \n",
        "    tf.keras.layers.Dropout(0.2), \n",
        "    tf.keras.layers.Dense(1, activation='sigmoid')\n",
        "])\n",
        "\n",
        "callbacks = [\n",
        "    tf.keras.callbacks.ModelCheckpoint(\"covid_classifier_model.h5\", save_best_only=True, verbose = 0),\n",
        "    tf.keras.callbacks.EarlyStopping(patience=3, monitor='val_accuracy', verbose=1),\n",
        "    tf.keras.callbacks.ReduceLROnPlateau(monitor='val_loss', factor=0.5, patience=2, verbose=1)\n",
        "]\n",
        "\n",
        "model.compile(optimizer = keras.optimizers.Adam(learning_rate=0.001),\n",
        "              loss = 'binary_crossentropy',\n",
        "              metrics=['accuracy'])"
      ]
    },
    {
      "cell_type": "code",
      "execution_count": null,
      "metadata": {
        "colab": {
          "base_uri": "https://localhost:8080/"
        },
        "id": "QlT08Y_eUzcX",
        "outputId": "2efd870c-19cd-409d-addd-e46e97eaf6b5"
      },
      "outputs": [
        {
          "output_type": "stream",
          "name": "stdout",
          "text": [
            "Model: \"sequential\"\n",
            "_________________________________________________________________\n",
            " Layer (type)                Output Shape              Param #   \n",
            "=================================================================\n",
            " resnet50v2 (Functional)     (None, 10, 6, 2048)       23564800  \n",
            "                                                                 \n",
            " global_average_pooling2d (G  (None, 2048)             0         \n",
            " lobalAveragePooling2D)                                          \n",
            "                                                                 \n",
            " dense (Dense)               (None, 128)               262272    \n",
            "                                                                 \n",
            " batch_normalization (BatchN  (None, 128)              512       \n",
            " ormalization)                                                   \n",
            "                                                                 \n",
            " dropout (Dropout)           (None, 128)               0         \n",
            "                                                                 \n",
            " dense_1 (Dense)             (None, 1)                 129       \n",
            "                                                                 \n",
            "=================================================================\n",
            "Total params: 23,827,713\n",
            "Trainable params: 262,657\n",
            "Non-trainable params: 23,565,056\n",
            "_________________________________________________________________\n"
          ]
        }
      ],
      "source": [
        "model.summary()"
      ]
    },
    {
      "cell_type": "markdown",
      "metadata": {
        "id": "jyH12CzS7oA3"
      },
      "source": [
        "# New Dataset"
      ]
    },
    {
      "cell_type": "code",
      "execution_count": null,
      "metadata": {
        "cellView": "code",
        "colab": {
          "base_uri": "https://localhost:8080/"
        },
        "id": "rgf-DgaZ3Saw",
        "outputId": "28ae84bb-2cbc-4992-9f4d-3ce493b3c6b3"
      },
      "outputs": [
        {
          "output_type": "stream",
          "name": "stdout",
          "text": [
            "Found 5000 images belonging to 2 classes.\n",
            "Found 1000 images belonging to 2 classes.\n"
          ]
        }
      ],
      "source": [
        "import os, glob\n",
        "import numpy as np\n",
        "import matplotlib.pyplot as plt\n",
        "import tensorflow as tf\n",
        "from tensorflow.keras.preprocessing.image import ImageDataGenerator\n",
        "from tensorflow import keras\n",
        "from keras import backend as K\n",
        "from tensorflow.keras.optimizers import Adam\n",
        "from keras import layers, models\n",
        "from tensorflow.keras import activations\n",
        "\n",
        "####### Generatiiing Data\n",
        "\n",
        "#batch_size = 32\n",
        "#batch_size = 64\n",
        "#batch_size = 128\n",
        "batch_size = 512\n",
        "\n",
        "image_weight = 200 \n",
        "image_height = 200\n",
        "\n",
        "train_datagen = ImageDataGenerator(rescale=1./255)                           \n",
        "train_generator = train_datagen.flow_from_directory(\n",
        "        '/content/drive/MyDrive/newest_dataset(train-5k,test-1.2k-val-1k)/NEWEST_DATASET/train',  ## COV19-XRay Training set (10k(5kCovid & 5kNormal) Images)\n",
        "        target_size=(image_weight , image_height),\n",
        "        batch_size=batch_size,\n",
        "        classes = ['covid','normal'],\n",
        "        class_mode='binary')\n",
        "\n",
        "val_datagen = ImageDataGenerator(rescale=1./255)\n",
        "val_generator = val_datagen.flow_from_directory(\n",
        "        '/content/drive/MyDrive/newest_dataset(train-5k,test-1.2k-val-1k)/NEWEST_DATASET/val',  ## COV19-XRay Validation set (2k(1kNormal & 1kCovid) images)\n",
        "        target_size=(image_weight , image_height),\n",
        "        batch_size=batch_size,\n",
        "        classes = ['covid','normal'],\n",
        "        class_mode='binary')"
      ]
    },
    {
      "cell_type": "markdown",
      "metadata": {
        "id": "eGXnbSz35nti"
      },
      "source": [
        "#Fitting Model"
      ]
    },
    {
      "cell_type": "code",
      "execution_count": null,
      "metadata": {
        "colab": {
          "base_uri": "https://localhost:8080/"
        },
        "id": "HeD-f62uGcph",
        "outputId": "8f248771-5e15-47b9-97cb-45094acdfa2a"
      },
      "outputs": [
        {
          "output_type": "stream",
          "name": "stdout",
          "text": [
            "Epoch 1/20\n",
            "40/40 [==============================] - ETA: 0s - loss: 0.3388 - accuracy: 0.8547 "
          ]
        },
        {
          "output_type": "stream",
          "name": "stderr",
          "text": [
            "/usr/local/lib/python3.7/dist-packages/keras/engine/functional.py:1410: CustomMaskWarning: Custom mask layers require a config and must override get_config. When loading, the custom mask layer must be passed to the custom_objects argument.\n",
            "  layer_config = serialize_layer_fn(layer)\n"
          ]
        },
        {
          "output_type": "stream",
          "name": "stdout",
          "text": [
            "\b\b\b\b\b\b\b\b\b\b\b\b\b\b\b\b\b\b\b\b\b\b\b\b\b\b\b\b\b\b\b\b\b\b\b\b\b\b\b\b\b\b\b\b\b\b\b\b\b\b\b\b\b\b\b\b\b\b\b\b\b\b\b\b\b\b\b\b\b\b\b\b\b\b\b\b\b\b\b\b\b\b\r40/40 [==============================] - 1849s 46s/step - loss: 0.3388 - accuracy: 0.8547 - val_loss: 0.2402 - val_accuracy: 0.9055 - lr: 0.0010\n",
            "Epoch 2/20\n",
            "40/40 [==============================] - 1587s 40s/step - loss: 0.1979 - accuracy: 0.9229 - val_loss: 0.2697 - val_accuracy: 0.8955 - lr: 0.0010\n",
            "Epoch 3/20\n",
            "40/40 [==============================] - 1611s 40s/step - loss: 0.1586 - accuracy: 0.9378 - val_loss: 0.1719 - val_accuracy: 0.9380 - lr: 0.0010\n",
            "Epoch 4/20\n",
            "40/40 [==============================] - 1616s 41s/step - loss: 0.1312 - accuracy: 0.9520 - val_loss: 0.1810 - val_accuracy: 0.9335 - lr: 0.0010\n",
            "Epoch 5/20\n",
            "40/40 [==============================] - ETA: 0s - loss: 0.1159 - accuracy: 0.9592 \n",
            "Epoch 00005: ReduceLROnPlateau reducing learning rate to 0.0005000000237487257.\n",
            "40/40 [==============================] - 1601s 40s/step - loss: 0.1159 - accuracy: 0.9592 - val_loss: 0.1890 - val_accuracy: 0.9275 - lr: 0.0010\n",
            "Epoch 6/20\n",
            "40/40 [==============================] - 1640s 41s/step - loss: 0.1055 - accuracy: 0.9616 - val_loss: 0.1057 - val_accuracy: 0.9600 - lr: 5.0000e-04\n",
            "Epoch 7/20\n",
            "40/40 [==============================] - 1566s 39s/step - loss: 0.0946 - accuracy: 0.9666 - val_loss: 0.1394 - val_accuracy: 0.9510 - lr: 5.0000e-04\n",
            "Epoch 8/20\n",
            "40/40 [==============================] - ETA: 0s - loss: 0.0814 - accuracy: 0.9735 \n",
            "Epoch 00008: ReduceLROnPlateau reducing learning rate to 0.0002500000118743628.\n",
            "40/40 [==============================] - 1546s 39s/step - loss: 0.0814 - accuracy: 0.9735 - val_loss: 0.1324 - val_accuracy: 0.9505 - lr: 5.0000e-04\n",
            "Epoch 9/20\n",
            "40/40 [==============================] - 1559s 39s/step - loss: 0.0680 - accuracy: 0.9792 - val_loss: 0.1280 - val_accuracy: 0.9525 - lr: 2.5000e-04\n",
            "Epoch 00009: early stopping\n"
          ]
        }
      ],
      "source": [
        "history = model.fit(train_generator, \n",
        "                    validation_data=val_generator, epochs=20, \n",
        "                    callbacks=[callbacks])"
      ]
    },
    {
      "cell_type": "code",
      "source": [
        "plt.plot(history.history['accuracy'])\n",
        "plt.plot(history.history['val_accuracy'])\n",
        "plt.title('model accuracy')\n",
        "plt.ylabel('accuracy')\n",
        "plt.xlabel('epoch')\n",
        "plt.legend(['train', 'test'], loc='upper left')\n",
        "plt.show()\n",
        "# summarize history for loss\n",
        "plt.plot(history.history['loss'])\n",
        "plt.plot(history.history['val_loss'])\n",
        "plt.title('model loss')\n",
        "plt.ylabel('loss')\n",
        "plt.xlabel('epoch')\n",
        "plt.legend(['train', 'test'], loc='upper left')\n",
        "plt.show()"
      ],
      "metadata": {
        "id": "UtPfWRj1vLwv",
        "outputId": "88251328-9835-41f3-d0d5-96d761c9395b",
        "colab": {
          "base_uri": "https://localhost:8080/",
          "height": 573
        }
      },
      "execution_count": null,
      "outputs": [
        {
          "output_type": "display_data",
          "data": {
            "image/png": "[encoded data removed]",
            "text/plain": [
              "<Figure size 432x288 with 1 Axes>"
            ]
          },
          "metadata": {
            "needs_background": "light"
          }
        },
        {
          "output_type": "display_data",
          "data": {
            "image/png": "[encoded data removed]",
            "text/plain": [
              "<Figure size 432x288 with 1 Axes>"
            ]
          },
          "metadata": {
            "needs_background": "light"
          }
        }
      ]
    },
    {
      "cell_type": "markdown",
      "metadata": {
        "id": "RHMwajuW5rbQ"
      },
      "source": [
        "##Creating Test Data"
      ]
    },
    {
      "cell_type": "code",
      "execution_count": null,
      "metadata": {
        "id": "kyzoeiwD5uCt",
        "colab": {
          "base_uri": "https://localhost:8080/"
        },
        "outputId": "2ec7929c-399a-45ec-ce97-015e0d08f828"
      },
      "outputs": [
        {
          "output_type": "stream",
          "name": "stdout",
          "text": [
            "Found 3000 images belonging to 2 classes.\n"
          ]
        }
      ],
      "source": [
        "test_datagen = ImageDataGenerator(rescale=1./255)                           \n",
        "test_generator = test_datagen.flow_from_directory(\n",
        "        '/content/drive/MyDrive/data/smallerData/test',  ## COV19-XRay Test set (3k(1.5Covid & 1.5Normal) Images)\n",
        "        target_size=(image_weight, image_height),\n",
        "        batch_size=batch_size,\n",
        "        classes = ['covid','normal'],\n",
        "        class_mode='binary')"
      ]
    },
    {
      "cell_type": "markdown",
      "metadata": {
        "id": "cNhD4h0I3DLS"
      },
      "source": [
        "###Evaluation Of Model"
      ]
    },
    {
      "cell_type": "code",
      "execution_count": null,
      "metadata": {
        "id": "xTVfkNzxCzIx",
        "colab": {
          "base_uri": "https://localhost:8080/"
        },
        "outputId": "e0a0e4d1-d7ae-4c45-c502-5263888d290c"
      },
      "outputs": [
        {
          "output_type": "stream",
          "name": "stdout",
          "text": [
            "12/12 [==============================] - 421s 35s/step - loss: 0.3638 - accuracy: 0.8600\n"
          ]
        },
        {
          "output_type": "execute_result",
          "data": {
            "text/plain": [
              "[0.36380892992019653, 0.8600000143051147]"
            ]
          },
          "metadata": {},
          "execution_count": 10
        }
      ],
      "source": [
        "model.load_weights(\"./covid_classifier_model.h5\")\n",
        "model.evaluate(test_generator)"
      ]
    },
    {
      "cell_type": "markdown",
      "source": [
        "# **Build AlexNet**"
      ],
      "metadata": {
        "id": "ZTyKwCrl2PTa"
      }
    },
    {
      "cell_type": "code",
      "source": [
        "# Common lib\n",
        "import pandas as pd\n",
        "import numpy as np\n",
        "import matplotlib.pyplot as plt\n",
        "import seaborn as sns\n",
        "import os\n",
        "\n",
        "# Utils\n",
        "from tqdm import tqdm\n",
        "import datetime\n",
        "\n",
        "# Sklearn\n",
        "from sklearn.model_selection import train_test_split\n",
        "\n",
        "# Tensorflow\n",
        "import tensorflow as tf\n",
        "from tensorflow.keras.models import Model, Sequential\n",
        "from tensorflow.keras.applications.vgg16 import VGG16\n",
        "from tensorflow.keras import Input\n",
        "from tensorflow.keras.layers import InputLayer\n",
        "from tensorflow.keras.layers import Conv2D, BatchNormalization, Activation, Add, MaxPooling2D, Flatten, AveragePooling2D, Dense, Dropout\n",
        "from tensorflow.keras.callbacks import ModelCheckpoint, EarlyStopping, ReduceLROnPlateau\n",
        "from tensorflow.keras.metrics import AUC, TruePositives, TrueNegatives, FalsePositives, FalseNegatives\n",
        "from tensorflow.keras.preprocessing.image import ImageDataGenerator, load_img, img_to_array, array_to_img\n",
        "from tensorflow.keras.layers.experimental.preprocessing import Resizing, Rescaling\n",
        "from tensorflow.keras.optimizers import Adam\n",
        "from tensorflow.keras.regularizers import l2"
      ],
      "metadata": {
        "id": "MDjIMd-o2NFC"
      },
      "execution_count": null,
      "outputs": []
    },
    {
      "cell_type": "code",
      "source": [
        "def create_dir(dir_path):\n",
        "    if not os.path.exists(dir_path):\n",
        "        os.mkdir(dir_path)\n",
        "        \n",
        "create_dir('models')"
      ],
      "metadata": {
        "id": "47ZRaZkO2jaa"
      },
      "execution_count": null,
      "outputs": []
    },
    {
      "cell_type": "code",
      "source": [
        "resize_and_rescale = Sequential([\n",
        "    Resizing(200,200),\n",
        "    Rescaling(1./255)\n",
        "])"
      ],
      "metadata": {
        "id": "SEi8scCm2p1z"
      },
      "execution_count": null,
      "outputs": []
    },
    {
      "cell_type": "code",
      "source": [
        "metrics = [TruePositives(name='TP'),\n",
        "           TrueNegatives(name='TN'),\n",
        "           FalsePositives(name='FP'),\n",
        "           FalseNegatives(name='FN'),\n",
        "           AUC(curve='PR', name='AUC')]"
      ],
      "metadata": {
        "id": "bmxRe_Lt2w6T"
      },
      "execution_count": null,
      "outputs": []
    },
    {
      "cell_type": "code",
      "source": [
        "lamb = 0.9\n",
        "\n",
        "model = Sequential([\n",
        "    # Preprocessing layer\n",
        "    resize_and_rescale,\n",
        "    \n",
        "    InputLayer((200, 200, 3)),\n",
        "    \n",
        "    # 1st layer\n",
        "    Conv2D(filters=96, kernel_size=(11,11), strides=(4,4), padding='valid', activation='relu', kernel_regularizer=l2(lamb), name='conv1'),\n",
        "    MaxPooling2D(pool_size=(3, 3), strides=(2, 2), padding='valid'),\n",
        "    BatchNormalization(),\n",
        "    \n",
        "    # 2nd layer\n",
        "    Conv2D(filters=256, kernel_size=(5, 5), strides=(1, 1), padding='same', activation='relu', kernel_regularizer=l2(lamb), name='conv2'),\n",
        "    MaxPooling2D(pool_size=(3, 3), strides=(2, 2), padding='valid'),\n",
        "    BatchNormalization(),\n",
        "    \n",
        "    # 3rd layer\n",
        "    Conv2D(filters=384, kernel_size=(3, 3), strides=(1, 1), padding='same', activation='relu', kernel_regularizer=l2(lamb), name='conv3'),\n",
        "    BatchNormalization(),\n",
        "    \n",
        "    # 4th layer\n",
        "    Conv2D(filters=384, kernel_size=(3, 3), strides=(1, 1), padding='same', activation='relu', kernel_regularizer=l2(lamb), name='conv4'),\n",
        "    BatchNormalization(),\n",
        "    \n",
        "    # 5th layer\n",
        "    Conv2D(filters=256, kernel_size=(3, 3), strides=(1, 1), padding='same', activation='relu', kernel_regularizer=l2(lamb), name='conv5'),\n",
        "    MaxPooling2D(pool_size=(3, 3), strides=(2, 2), padding='valid'),\n",
        "    BatchNormalization(),\n",
        "    \n",
        "    # Flatten\n",
        "    Flatten(),\n",
        "    \n",
        "    # 6th layer\n",
        "    Dense(units=4096, activation='relu'),\n",
        "    Dropout(0.5),\n",
        "    \n",
        "    # 7th layer\n",
        "    Dense(units=4096, activation='relu'),\n",
        "    Dropout(0.5),\n",
        "    \n",
        "    # 8th layer (output)\n",
        "    Dense(units=1, activation='sigmoid')\n",
        "], name='AlexNet')"
      ],
      "metadata": {
        "id": "niAF-nK02zID"
      },
      "execution_count": null,
      "outputs": []
    },
    {
      "cell_type": "code",
      "source": [
        "#Create folder contains model's files\n",
        "model_dir = 'models/alexnet'\n",
        "model_file = 'best_alexnet.hdf5'\n",
        "create_dir(model_dir)\n",
        "\n",
        "checkpoint = ModelCheckpoint(os.path.join(model_dir, model_file),\n",
        "                             monitor='val_loss',\n",
        "                             verbose=1,\n",
        "                             save_best_only=True,\n",
        "                             save_weights_only=False)\n",
        "\n",
        "early_stopping = EarlyStopping(monitor='val_loss',\n",
        "                               patience=30,\n",
        "                               verbose=1,\n",
        "                               restore_best_weights=True)\n",
        "\n",
        "reduce_lr = ReduceLROnPlateau(monitor='val_loss', factor=np.sqrt(0.1), \n",
        "                              patience=7, min_delta=1e-3, verbose=1, min_lr=1e-7)"
      ],
      "metadata": {
        "id": "0Ricur18205l"
      },
      "execution_count": null,
      "outputs": []
    },
    {
      "cell_type": "code",
      "source": [
        "# Initialize TensorBoard\n",
        "log_dir = 'models/alexnet/logs' + datetime.datetime.now().strftime(\"%Y%m%d-%H%M%S\")\n",
        "tensorboard_callback = tf.keras.callbacks.TensorBoard(log_dir=log_dir, histogram_freq=1)"
      ],
      "metadata": {
        "id": "m12RVhdr21VL"
      },
      "execution_count": null,
      "outputs": []
    },
    {
      "cell_type": "code",
      "source": [
        "batch_size = 512\n",
        "epochs = 200\n",
        "lr = 1e-3\n",
        "\n",
        "model.compile(loss='binary_crossentropy', optimizer=Adam(lr=lr), metrics=metrics)\n",
        "\n",
        "training_time_start = datetime.datetime.now()\n",
        "\n",
        "history = model.fit(train_generator,\n",
        "                                epochs=epochs,\n",
        "                                verbose=1,\n",
        "                                callbacks=[checkpoint, early_stopping, reduce_lr, tensorboard_callback],\n",
        "                                validation_data=val_generator,\n",
        "                                steps_per_epoch=len(train_generator),\n",
        "                                validation_steps=len(val_generator))\n",
        "\n",
        "training_time_end = datetime.datetime.now()"
      ],
      "metadata": {
        "colab": {
          "base_uri": "https://localhost:8080/"
        },
        "id": "UvjyzFzC3S0s",
        "outputId": "bca1c7c1-3e6c-41bf-b061-867f376698d5"
      },
      "execution_count": null,
      "outputs": [
        {
          "output_type": "stream",
          "name": "stderr",
          "text": [
            "/usr/local/lib/python3.7/dist-packages/keras/optimizer_v2/adam.py:105: UserWarning: The `lr` argument is deprecated, use `learning_rate` instead.\n",
            "  super(Adam, self).__init__(name, **kwargs)\n"
          ]
        },
        {
          "output_type": "stream",
          "name": "stdout",
          "text": [
            "Epoch 1/200\n",
            " 9/10 [==========================>...] - ETA: 4:02 - loss: 751.6093 - TP: 1506.0000 - TN: 1379.0000 - FP: 850.0000 - FN: 753.0000 - AUC: 0.6814"
          ]
        }
      ]
    },
    {
      "cell_type": "code",
      "source": [
        "from tensorflow.keras.metrics import AUC, TruePositives, TrueNegatives, FalsePositives, FalseNegatives"
      ],
      "metadata": {
        "id": "hUEI5hIzBkrL"
      },
      "execution_count": null,
      "outputs": []
    },
    {
      "cell_type": "code",
      "source": [
        "pred = model.predict(test_generator)\n",
        "pred = np.argmax(pred, axis=1) #pick class with highest  probability\n",
        "\n",
        "labels = (train_generator.class_indices)\n",
        "labels = dict((v,k) for k,v in labels.items())\n",
        "pred2 = [labels[k] for k in pred]"
      ],
      "metadata": {
        "id": "10d07RDQBtgs"
      },
      "execution_count": null,
      "outputs": []
    },
    {
      "cell_type": "code",
      "source": [
        "y_test = test_generator.labels # set y_test to the expected output\n",
        "print(classification_report(y_test, pred2))\n",
        "print(\"Accuracy of the Model:\",accuracy_score(y_test, pred2)*100,\"%\")"
      ],
      "metadata": {
        "id": "BnrvfxmxBwBF"
      },
      "execution_count": null,
      "outputs": []
    },
    {
      "cell_type": "code",
      "source": [
        "# Confusion Matrix\n",
        "from sklearn.metrics import confusion_matrix, accuracy_score\n",
        "plt.figure(figsize = (10,5))\n",
        "cm = confusion_matrix(y_test, pred2)\n",
        "sns.heatmap(cm, annot=True, fmt = 'g')"
      ],
      "metadata": {
        "id": "BgsBlkJbByeK"
      },
      "execution_count": null,
      "outputs": []
    },
    {
      "cell_type": "code",
      "source": [
        "# accuracy: (tp + tn) / (p + n)\n",
        "\n",
        "accuracy = accuracy_score(testy, yhat_classes)\n",
        "\n",
        "print('Accuracy: %f' % accuracy)\n",
        "\n",
        "# precision tp / (tp + fp)\n",
        "\n",
        "precision = precision_score(testy, yhat_classes)\n",
        "\n",
        "print('Precision: %f' % precision)\n",
        "\n",
        "# recall: tp / (tp + fn)\n",
        "\n",
        "recall = recall_score(testy, yhat_classes)\n",
        "\n",
        "print('Recall: %f' % recall)\n",
        "\n",
        "# f1: 2 tp / (2 tp + fp + fn)\n",
        "\n",
        "f1 = f1_score(testy, yhat_classes)\n",
        "\n",
        "print('F1 score: %f' % f1)"
      ],
      "metadata": {
        "id": "QVBhfgyXBLE0"
      },
      "execution_count": null,
      "outputs": []
    }
  ],
  "metadata": {
    "colab": {
      "collapsed_sections": [],
      "name": "Covid19_X-Ray_Images_Classification.ipynb(NEWESTDATASET)ALEXNET_batchsize_512_200x200 adlı dosyanın kopyası",
      "provenance": [],
      "include_colab_link": true
    },
    "kernelspec": {
      "display_name": "Python 3",
      "name": "python3"
    },
    "language_info": {
      "name": "python"
    }
  },
  "nbformat": 4,
  "nbformat_minor": 0
}